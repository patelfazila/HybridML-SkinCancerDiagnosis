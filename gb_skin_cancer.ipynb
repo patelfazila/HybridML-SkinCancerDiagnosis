{
  "nbformat": 4,
  "nbformat_minor": 0,
  "metadata": {
    "colab": {
      "provenance": []
    },
    "kernelspec": {
      "name": "python3",
      "display_name": "Python 3"
    },
    "language_info": {
      "name": "python"
    }
  },
  "cells": [
    {
      "cell_type": "code",
      "execution_count": null,
      "metadata": {
        "id": "Vo7dCcx-uSte"
      },
      "outputs": [],
      "source": [
        "import numpy as np\n",
        "import cv2\n",
        "from sklearn.ensemble import GradientBoostingClassifier\n",
        "from sklearn.metrics import confusion_matrix\n",
        "import matplotlib.pyplot as plt\n",
        "import seaborn as sns\n",
        "from sklearn.preprocessing import StandardScaler\n",
        "\n",
        "# Set the path to the training and testing folders\n",
        "train_dir = '/content/drive/MyDrive/Small_skin/train'\n",
        "test_dir = '/content/drive/MyDrive/Small_skin/test'\n",
        "\n",
        "# Set the image size\n",
        "img_size = (28, 28)\n",
        "\n",
        "# Load the training and testing images\n",
        "train_images = []\n",
        "train_labels = []\n",
        "for folder in os.listdir(train_dir):\n",
        "    for file in os.listdir(os.path.join(train_dir, folder)):\n",
        "        img = cv2.imread(os.path.join(train_dir, folder, file))\n",
        "        img = cv2.resize(img, img_size)\n",
        "        train_images.append(img)\n",
        "        train_labels.append(folder)\n",
        "\n",
        "test_images = []\n",
        "test_labels = []\n",
        "for folder in os.listdir(test_dir):\n",
        "    for file in os.listdir(os.path.join(test_dir, folder)):\n",
        "        img = cv2.imread(os.path.join(test_dir, folder, file))\n",
        "        img = cv2.resize(img, img_size)\n",
        "        test_images.append(img)\n",
        "        test_labels.append(folder)\n",
        "\n",
        "# Convert the images to numpy arrays\n",
        "train_images = np.array(train_images)\n",
        "test_images = np.array(test_images)\n",
        "\n",
        "# Reshape the images to 1D arrays\n",
        "train_images = train_images.reshape(-1, img_size[0]*img_size[1]*3)\n",
        "test_images = test_images.reshape(-1, img_size[0]*img_size[1]*3)\n",
        "\n",
        "# Scale the data using StandardScaler\n",
        "scaler = StandardScaler()\n",
        "train_images = scaler.fit_transform(train_images)\n",
        "test_images = scaler.transform(test_images)\n",
        "\n",
        "# Create a Gradient Boosting model\n",
        "gb = GradientBoostingClassifier(n_estimators=100, learning_rate=0.1, max_depth=5)\n",
        "\n",
        "# Train the Gradient Boosting model\n",
        "gb.fit(train_images, train_labels)\n",
        "\n",
        "# Evaluate the Gradient Boosting model on the test data\n",
        "test_pred = gb.predict(test_images)\n",
        "test_acc = np.mean(test_pred == test_labels)\n",
        "print(f'Test accuracy: {test_acc:.2f}')\n",
        "\n",
        "# Create a confusion matrix\n",
        "conf_mat = confusion_matrix(test_labels, test_pred)\n",
        "\n",
        "# Create a heatmap of the confusion matrix\n",
        "plt.figure(figsize=(10, 8))\n",
        "sns.heatmap(conf_mat, annot=True, cmap='Blues')\n",
        "plt.xlabel('Predicted labels')\n",
        "plt.ylabel('True labels')\n",
        "plt.title('Confusion Matrix')\n",
        "plt.show()"
      ]
    },
    {
      "cell_type": "code",
      "source": [
        "!pip uninstall pandas numpy\n",
        "!pip install pandas numpy"
      ],
      "metadata": {
        "id": "IzL6bRLrhKrL",
        "outputId": "9e14a948-cd8f-4892-97a9-7f4aa7103840",
        "colab": {
          "base_uri": "https://localhost:8080/"
        }
      },
      "execution_count": null,
      "outputs": [
        {
          "metadata": {
            "tags": null
          },
          "name": "stdout",
          "output_type": "stream",
          "text": [
            "Found existing installation: pandas 2.1.4\n",
            "Uninstalling pandas-2.1.4:\n",
            "  Would remove:\n",
            "    /usr/local/lib/python3.10/dist-packages/pandas-2.1.4.dist-info/*\n",
            "    /usr/local/lib/python3.10/dist-packages/pandas/*\n",
            "Proceed (Y/n)? "
          ]
        }
      ]
    }
  ]
}